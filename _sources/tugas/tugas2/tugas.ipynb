{
  "cells": [
    {
      "cell_type": "markdown",
      "metadata": {},
      "source": [
        "# crawling"
      ]
    },
    {
      "cell_type": "code",
      "execution_count": null,
      "metadata": {
        "colab": {
          "base_uri": "https://localhost:8080/"
        },
        "id": "4tS6Mulqm69-",
        "outputId": "3c248b70-af6e-4534-ec3e-b632503a05f6"
      },
      "outputs": [
        {
          "name": "stdout",
          "output_type": "stream",
          "text": [
            "Collecting sprynger\n",
            "  Using cached sprynger-0.4.1-py3-none-any.whl.metadata (5.8 kB)\n",
            "Requirement already satisfied: lxml in c:\\users\\hp\\appdata\\local\\packages\\pythonsoftwarefoundation.python.3.11_qbz5n2kfra8p0\\localcache\\local-packages\\python311\\site-packages (from sprynger) (5.4.0)\n",
            "Requirement already satisfied: requests in c:\\users\\hp\\appdata\\local\\packages\\pythonsoftwarefoundation.python.3.11_qbz5n2kfra8p0\\localcache\\local-packages\\python311\\site-packages (from sprynger) (2.32.3)\n",
            "Requirement already satisfied: urllib3 in c:\\users\\hp\\appdata\\local\\packages\\pythonsoftwarefoundation.python.3.11_qbz5n2kfra8p0\\localcache\\local-packages\\python311\\site-packages (from sprynger) (2.2.2)\n",
            "Requirement already satisfied: platformdirs in c:\\users\\hp\\appdata\\local\\packages\\pythonsoftwarefoundation.python.3.11_qbz5n2kfra8p0\\localcache\\local-packages\\python311\\site-packages (from sprynger) (4.4.0)\n",
            "Requirement already satisfied: charset-normalizer<4,>=2 in c:\\users\\hp\\appdata\\local\\packages\\pythonsoftwarefoundation.python.3.11_qbz5n2kfra8p0\\localcache\\local-packages\\python311\\site-packages (from requests->sprynger) (3.3.2)\n",
            "Requirement already satisfied: idna<4,>=2.5 in c:\\users\\hp\\appdata\\local\\packages\\pythonsoftwarefoundation.python.3.11_qbz5n2kfra8p0\\localcache\\local-packages\\python311\\site-packages (from requests->sprynger) (3.7)\n",
            "Requirement already satisfied: certifi>=2017.4.17 in c:\\users\\hp\\appdata\\local\\packages\\pythonsoftwarefoundation.python.3.11_qbz5n2kfra8p0\\localcache\\local-packages\\python311\\site-packages (from requests->sprynger) (2024.6.2)\n",
            "Using cached sprynger-0.4.1-py3-none-any.whl (40 kB)\n",
            "Installing collected packages: sprynger\n",
            "Successfully installed sprynger-0.4.1\n",
            "Note: you may need to restart the kernel to use updated packages.\n"
          ]
        },
        {
          "name": "stderr",
          "output_type": "stream",
          "text": [
            "\n",
            "[notice] A new release of pip is available: 25.1.1 -> 25.2\n",
            "[notice] To update, run: C:\\Users\\HP\\AppData\\Local\\Microsoft\\WindowsApps\\PythonSoftwareFoundation.Python.3.11_qbz5n2kfra8p0\\python.exe -m pip install --upgrade pip\n"
          ]
        }
      ],
      "source": [
        "pip install sprynger "
      ]
    },
    {
      "cell_type": "code",
      "execution_count": 2,
      "metadata": {
        "colab": {
          "base_uri": "https://localhost:8080/"
        },
        "id": "g6WizhgAnE7A",
        "outputId": "da2d1efe-85ac-4ca8-e6b0-9014a0b09954"
      },
      "outputs": [
        {
          "name": "stdout",
          "output_type": "stream",
          "text": [
            "Data telah disimpan ke hasil_crawling.csv: 10 records\n"
          ]
        }
      ],
      "source": [
        "import requests\n",
        "import pandas as pd\n",
        "import os\n",
        "\n",
        "# Ganti dengan API Key Anda\n",
        "api_key = \"31165f19586d9d01f2baf6f5ff3565c5\"\n",
        "# Variasi kata kunci (dikurangi untuk menghindari timeout)\n",
        "keywords = [\"web mining\", \"data mining\"]\n",
        "\n",
        "# Check if file already exists to avoid re-crawling during builds\n",
        "if os.path.exists('hasil_crawling.csv'):\n",
        "    print(\"File hasil_crawling.csv sudah ada. Menggunakan data yang tersimpan.\")\n",
        "    df = pd.read_csv('hasil_crawling.csv')\n",
        "    print(f\"Data berhasil dimuat: {len(df)} records\")\n",
        "else:\n",
        "    results = []\n",
        "    \n",
        "    for keyword in keywords:\n",
        "        try:\n",
        "            url = \"https://api.springernature.com/meta/v2/json\"\n",
        "            params = {\n",
        "                \"q\": keyword,  \n",
        "                \"api_key\": api_key,\n",
        "                \"p\": 5  # Dikurangi dari 10 ke 5 untuk mengurangi waktu eksekusi\n",
        "            }\n",
        "\n",
        "            response = requests.get(url, params=params, timeout=10)\n",
        "\n",
        "            if response.status_code == 200:\n",
        "                data = response.json()\n",
        "                records = data.get('records', [])\n",
        "\n",
        "                for record in records:\n",
        "                    doi = record.get('doi', 'No DOI')\n",
        "                    title = record.get('title', 'No Title')\n",
        "                    abstract = record.get('abstract', 'No Abstract')\n",
        "\n",
        "                    results.append({\n",
        "                        'Keyword': keyword,\n",
        "                        'DOI': doi,\n",
        "                        'Title': title,\n",
        "                        'Abstract': abstract\n",
        "                    })\n",
        "            else:\n",
        "                print(f\"Error for keyword '{keyword}':\", response.status_code)\n",
        "                \n",
        "        except requests.exceptions.Timeout:\n",
        "            print(f\"Timeout untuk keyword '{keyword}' - melanjutkan ke keyword berikutnya\")\n",
        "        except Exception as e:\n",
        "            print(f\"Error untuk keyword '{keyword}': {str(e)}\")\n",
        "\n",
        "    df = pd.DataFrame(results)\n",
        "    \n",
        "    if not df.empty:\n",
        "        df.to_csv('hasil_crawling.csv', index=False)\n",
        "        print(f\"Data telah disimpan ke hasil_crawling.csv: {len(df)} records\")\n",
        "    else:\n",
        "        print(\"Tidak ada data yang berhasil di-crawl\")"
      ]
    },
    {
      "cell_type": "code",
      "execution_count": 3,
      "metadata": {},
      "outputs": [
        {
          "name": "stdout",
          "output_type": "stream",
          "text": [
            "      Keyword                           DOI  \\\n",
            "0  web mining   10.1007/978-3-032-00983-8_5   \n",
            "1  web mining   10.1007/978-3-031-93802-3_7   \n",
            "2  web mining   10.1007/978-981-96-7238-7_2   \n",
            "3  web mining  10.1007/978-3-031-95296-8_15   \n",
            "4  web mining   10.1007/978-3-031-90470-7_6   \n",
            "\n",
            "                                               Title  \\\n",
            "0  Survey on Data Mining and Machine Learning Met...   \n",
            "1  Unveiling Power Laws in Graph Mining: Techniqu...   \n",
            "2  Architecture Mining Approach for Systems-of-Sy...   \n",
            "3  A Mathematical Model and Algorithm for Data An...   \n",
            "4  ‘Internet of Things’ and ‘Social Networking’: ...   \n",
            "\n",
            "                                            Abstract  \n",
            "0  It is observed that the Mental illness by the ...  \n",
            "1  Power laws play a crucial role in understandin...  \n",
            "2  Context: Systems of Systems (SoS) constitute a...  \n",
            "3  Machine learning methods play an important rol...  \n",
            "4  Moving to the post-2000 period, or the post-fo...  \n"
          ]
        }
      ],
      "source": [
        "import pandas as pd\n",
        "\n",
        "file_path = 'hasil_crawling.csv' \n",
        "df = pd.read_csv(file_path)\n",
        "\n",
        "print(df.head())"
      ]
    }
  ],
  "metadata": {
    "colab": {
      "provenance": []
    },
    "kernelspec": {
      "display_name": "Python 3",
      "language": "python",
      "name": "python3"
    },
    "language_info": {
      "codemirror_mode": {
        "name": "ipython",
        "version": 3
      },
      "file_extension": ".py",
      "mimetype": "text/x-python",
      "name": "python",
      "nbconvert_exporter": "python",
      "pygments_lexer": "ipython3",
      "version": "3.11.9"
    }
  },
  "nbformat": 4,
  "nbformat_minor": 0
}
